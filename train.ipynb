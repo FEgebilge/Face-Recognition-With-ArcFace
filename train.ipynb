{
 "cells": [
  {
   "cell_type": "markdown",
   "metadata": {},
   "source": [
    "# 1. Baseline"
   ]
  },
  {
   "cell_type": "markdown",
   "metadata": {},
   "source": [
    "## Libraries"
   ]
  },
  {
   "cell_type": "code",
   "execution_count": 1,
   "metadata": {},
   "outputs": [],
   "source": [
    "import os\n",
    "from pathlib import Path\n",
    "from tqdm import tqdm\n",
    "from easydict import EasyDict as edict\n",
    "\n",
    "import torch\n",
    "import torch.nn as nn\n",
    "import torch.optim as optim\n",
    "import torchvision.transforms as transforms\n",
    "import torchvision.utils as vutils\n",
    "\n",
    "from data.ms1m import get_train_loader\n",
    "from data.lfw import LFW\n",
    "\n",
    "from backbone.arcfacenet import SEResNet_IR\n",
    "from margin.ArcMarginProduct import ArcMarginProduct\n",
    "\n",
    "from util.utils import save_checkpoint, test"
   ]
  },
  {
   "cell_type": "markdown",
   "metadata": {},
   "source": [
    "## Configuration"
   ]
  },
  {
   "cell_type": "code",
   "execution_count": 2,
   "metadata": {},
   "outputs": [
    {
     "name": "stdout",
     "output_type": "stream",
     "text": [
      "Is MPS available? True\n",
      "Was the current version of PyTorch built with MPS activated? True\n",
      "Configured device: mps\n"
     ]
    }
   ],
   "source": [
    "config = edict()\n",
    "config.train_root = '/Users/egebilge/Developer/Computer Vision/Face Recognition With ArcFace/ArcFace/dataset/MS1M'\n",
    "config.lfw_root = '/Users/egebilge/Developer/Computer Vision/Face Recognition With ArcFace/ArcFace/dataset/lfw_aligned_112'\n",
    "config.lfw_file_list = '/Users/egebilge/Developer/Computer Vision/Face Recognition With ArcFace/ArcFace/dataset/lfw_pair.txt'\n",
    "\n",
    "config.mode = 'se_ir'\n",
    "config.depth = 50\n",
    "config.margin_type = 'ArcFace'\n",
    "config.feature_dim = 512\n",
    "config.batch_size = 32\n",
    "config.lr = 0.01\n",
    "config.milestones = [5, 8, 10]\n",
    "config.total_epoch = 12\n",
    "\n",
    "config.save_path = './saved'\n",
    "config.save_dir = os.path.join(config.save_path, f'{config.mode}_{config.depth}_{config.margin_type}_{config.feature_dim}') # save model like: se_ir_50_ArcFace_512\n",
    "\n",
    "# Check if MPS is available\n",
    "mps_available = torch.backends.mps.is_available()\n",
    "\n",
    "# Print MPS availability\n",
    "print(\"Is MPS available?\", mps_available)\n",
    "\n",
    "# Check if the current version of PyTorch was built with MPS activated\n",
    "print(\"Was the current version of PyTorch built with MPS activated?\", torch.backends.mps.is_built())\n",
    "\n",
    "# Set device based on MPS availability\n",
    "config.device = torch.device(\"mps\" if mps_available else \"cpu\")\n",
    "print(\"Configured device:\", config.device)\n",
    "\n",
    "config.num_workers = 2\n",
    "config.pin_memory = True"
   ]
  },
  {
   "cell_type": "code",
   "execution_count": 3,
   "metadata": {},
   "outputs": [],
   "source": [
    "os.makedirs(config.save_dir, exist_ok=True)"
   ]
  },
  {
   "cell_type": "markdown",
   "metadata": {},
   "source": [
    "## Data Loader"
   ]
  },
  {
   "cell_type": "code",
   "execution_count": 4,
   "metadata": {},
   "outputs": [],
   "source": [
    "transforms = transforms.Compose([\n",
    "    transforms.ToTensor(),\n",
    "    transforms.Normalize(mean=[0.5, 0.5, 0.5], std=[0.5, 0.5, 0.5])\n",
    "])\n",
    "\n",
    "train_loader,class_num = get_train_loader(config)"
   ]
  },
  {
   "cell_type": "code",
   "execution_count": 5,
   "metadata": {},
   "outputs": [],
   "source": [
    "import torch.utils\n",
    "import torch.utils.data\n",
    "\n",
    "lfw_dataset = LFW(config.lfw_root, config.lfw_file_list, transforms)\n",
    "lfw_loader = torch.utils.data.DataLoader(lfw_dataset, batch_size=32, shuffle=False, num_workers=config.num_workers)"
   ]
  },
  {
   "cell_type": "markdown",
   "metadata": {},
   "source": [
    "# Model"
   ]
  },
  {
   "cell_type": "code",
   "execution_count": 6,
   "metadata": {},
   "outputs": [],
   "source": [
    "model = SEResNet_IR(config.depth, config.feature_dim,mode=config.mode).to(config.device)\n",
    "margin = ArcMarginProduct(config.feature_dim, class_num).to(config.device)"
   ]
  },
  {
   "cell_type": "code",
   "execution_count": 7,
   "metadata": {},
   "outputs": [],
   "source": [
    "criterion = nn.CrossEntropyLoss()\n",
    "optimizer = optim.SGD([{'params': model.parameters()},\n",
    "                       {'params': margin.parameters()}],\n",
    "                        lr=config.lr, weight_decay=5e-4, momentum=0.9,nesterov=True)\n",
    "\n",
    "def schedule_lr():\n",
    "    for params in optimizer.param_groups:\n",
    "        params['lr'] /= 10\n",
    "        \n",
    "    #print(optimizer)"
   ]
  },
  {
   "cell_type": "markdown",
   "metadata": {},
   "source": [
    "## Train"
   ]
  },
  {
   "cell_type": "code",
   "execution_count": 8,
   "metadata": {},
   "outputs": [
    {
     "name": "stdout",
     "output_type": "stream",
     "text": [
      "Epoch 0/12\n"
     ]
    },
    {
     "name": "stderr",
     "output_type": "stream",
     "text": [
      "100%|██████████| 911/911 [09:42<00:00,  1.56it/s]\n"
     ]
    },
    {
     "name": "stdout",
     "output_type": "stream",
     "text": [
      "lfw_acc: 0.7231666666666666 loss: 12.241194725036621\n",
      "best model saved\n",
      "\n",
      "Epoch 1/12\n"
     ]
    },
    {
     "name": "stderr",
     "output_type": "stream",
     "text": [
      "100%|██████████| 911/911 [09:41<00:00,  1.57it/s]\n"
     ]
    },
    {
     "name": "stdout",
     "output_type": "stream",
     "text": [
      "lfw_acc: 0.7918333333333333 loss: 9.217211723327637\n",
      "best model saved\n",
      "\n",
      "Epoch 2/12\n"
     ]
    },
    {
     "name": "stderr",
     "output_type": "stream",
     "text": [
      "100%|██████████| 911/911 [09:48<00:00,  1.55it/s]\n"
     ]
    },
    {
     "name": "stdout",
     "output_type": "stream",
     "text": [
      "lfw_acc: 0.8141666666666667 loss: 7.717184543609619\n",
      "best model saved\n",
      "\n",
      "Epoch 3/12\n"
     ]
    },
    {
     "name": "stderr",
     "output_type": "stream",
     "text": [
      "100%|██████████| 911/911 [09:40<00:00,  1.57it/s]\n"
     ]
    },
    {
     "name": "stdout",
     "output_type": "stream",
     "text": [
      "lfw_acc: 0.8184999999999999 loss: 7.924939155578613\n",
      "best model saved\n",
      "\n",
      "Epoch 4/12\n"
     ]
    },
    {
     "name": "stderr",
     "output_type": "stream",
     "text": [
      "100%|██████████| 911/911 [09:38<00:00,  1.57it/s]\n"
     ]
    },
    {
     "name": "stdout",
     "output_type": "stream",
     "text": [
      "lfw_acc: 0.8261666666666667 loss: 4.220844745635986\n",
      "best model saved\n",
      "\n",
      "Epoch 5/12\n"
     ]
    },
    {
     "name": "stderr",
     "output_type": "stream",
     "text": [
      "100%|██████████| 911/911 [09:36<00:00,  1.58it/s]\n"
     ]
    },
    {
     "name": "stdout",
     "output_type": "stream",
     "text": [
      "lfw_acc: 0.8460000000000001 loss: 4.6469268798828125\n",
      "best model saved\n",
      "\n",
      "Epoch 6/12\n"
     ]
    },
    {
     "name": "stderr",
     "output_type": "stream",
     "text": [
      "100%|██████████| 911/911 [09:34<00:00,  1.59it/s]\n"
     ]
    },
    {
     "name": "stdout",
     "output_type": "stream",
     "text": [
      "lfw_acc: 0.8486666666666667 loss: 3.2952840328216553\n",
      "best model saved\n",
      "\n",
      "Epoch 7/12\n"
     ]
    },
    {
     "name": "stderr",
     "output_type": "stream",
     "text": [
      "100%|██████████| 911/911 [09:34<00:00,  1.58it/s]\n"
     ]
    },
    {
     "name": "stdout",
     "output_type": "stream",
     "text": [
      "lfw_acc: 0.8525 loss: 2.1109778881073\n",
      "best model saved\n",
      "\n",
      "Epoch 8/12\n"
     ]
    },
    {
     "name": "stderr",
     "output_type": "stream",
     "text": [
      "100%|██████████| 911/911 [09:34<00:00,  1.59it/s]\n"
     ]
    },
    {
     "name": "stdout",
     "output_type": "stream",
     "text": [
      "lfw_acc: 0.8486666666666667 loss: 2.3444104194641113\n",
      "Epoch 9/12\n"
     ]
    },
    {
     "name": "stderr",
     "output_type": "stream",
     "text": [
      "100%|██████████| 911/911 [09:34<00:00,  1.59it/s]\n"
     ]
    },
    {
     "name": "stdout",
     "output_type": "stream",
     "text": [
      "lfw_acc: 0.8469999999999999 loss: 3.403931140899658\n",
      "Epoch 10/12\n"
     ]
    },
    {
     "name": "stderr",
     "output_type": "stream",
     "text": [
      "100%|██████████| 911/911 [09:42<00:00,  1.56it/s]\n"
     ]
    },
    {
     "name": "stdout",
     "output_type": "stream",
     "text": [
      "lfw_acc: 0.8496666666666666 loss: 2.252744197845459\n",
      "Epoch 11/12\n"
     ]
    },
    {
     "name": "stderr",
     "output_type": "stream",
     "text": [
      "100%|██████████| 911/911 [09:44<00:00,  1.56it/s]\n"
     ]
    },
    {
     "name": "stdout",
     "output_type": "stream",
     "text": [
      "lfw_acc: 0.8465 loss: 1.5389292240142822\n"
     ]
    }
   ],
   "source": [
    "best_acc = 0.0\n",
    "for epoch in range(config.total_epoch):\n",
    "\n",
    "    #train\n",
    "    model.train()\n",
    "    print(f'Epoch {epoch}/{config.total_epoch}')\n",
    "    if epoch in config.milestones:\n",
    "        schedule_lr() # 5, 8, 10 epochs\n",
    "    for data in tqdm(train_loader):\n",
    "        img,label = data\n",
    "        img = img.to(config.device)\n",
    "        label = label.to(config.device)\n",
    "        optimizer.zero_grad()\n",
    "        feature = model(img)\n",
    "        output = margin(feature,label)\n",
    "        loss = criterion(output,label)\n",
    "        loss.backward()\n",
    "        optimizer.step()\n",
    "\n",
    "    #test\n",
    "    model.eval()\n",
    "    lfw_acc = test(config,model,lfw_dataset,lfw_loader)\n",
    "    print(f'lfw_acc: {lfw_acc} loss: {loss.item()}')\n",
    "    is_best = lfw_acc > best_acc\n",
    "    best_acc = max(best_acc,lfw_acc)\n",
    "    save_checkpoint({\n",
    "        'epoch': epoch,\n",
    "        'model_state_dict': model.state_dict(),\n",
    "        'margin_state_dict': margin.state_dict(),\n",
    "        'optimizer_state_dict': optimizer.state_dict(),\n",
    "        'best_acc': best_acc\n",
    "    }, is_best, checkpoint=config.save_dir)\n"
   ]
  },
  {
   "cell_type": "code",
   "execution_count": null,
   "metadata": {},
   "outputs": [],
   "source": []
  }
 ],
 "metadata": {
  "kernelspec": {
   "display_name": "Python 3",
   "language": "python",
   "name": "python3"
  },
  "language_info": {
   "codemirror_mode": {
    "name": "ipython",
    "version": 3
   },
   "file_extension": ".py",
   "mimetype": "text/x-python",
   "name": "python",
   "nbconvert_exporter": "python",
   "pygments_lexer": "ipython3",
   "version": "3.12.2"
  }
 },
 "nbformat": 4,
 "nbformat_minor": 4
}
